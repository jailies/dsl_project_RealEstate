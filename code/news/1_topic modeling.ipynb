{
 "cells": [
  {
   "cell_type": "code",
   "execution_count": 1,
   "metadata": {},
   "outputs": [],
   "source": [
    "import pandas as pd\n",
    "import gensim"
   ]
  },
  {
   "cell_type": "code",
   "execution_count": 2,
   "metadata": {},
   "outputs": [],
   "source": [
    "data = pd.read_pickle('../../data/news/preprocessed_data.pkl')"
   ]
  },
  {
   "cell_type": "code",
   "execution_count": 3,
   "metadata": {
    "scrolled": true
   },
   "outputs": [
    {
     "data": {
      "text/plain": [
       "50332"
      ]
     },
     "execution_count": 3,
     "metadata": {},
     "output_type": "execute_result"
    }
   ],
   "source": [
    "len(data)"
   ]
  },
  {
   "cell_type": "markdown",
   "metadata": {},
   "source": [
    "# Dictionary encoding"
   ]
  },
  {
   "cell_type": "code",
   "execution_count": 7,
   "metadata": {},
   "outputs": [],
   "source": [
    "keyword_data = data.키워드.values[:1000] #위치, 키워드 가능하나 일단은 '위치'"
   ]
  },
  {
   "cell_type": "code",
   "execution_count": 8,
   "metadata": {
    "scrolled": true
   },
   "outputs": [],
   "source": [
    "dictionary = gensim.corpora.Dictionary(keyword_data)\n",
    "corpus = [dictionary.doc2bow(cnt) for cnt in keyword_data]"
   ]
  },
  {
   "cell_type": "markdown",
   "metadata": {},
   "source": [
    "# Topic model (LDA)"
   ]
  },
  {
   "cell_type": "code",
   "execution_count": 9,
   "metadata": {},
   "outputs": [],
   "source": [
    "topic_number = 10\n",
    "number_of_passes = 15  # 기본값 1\n",
    "number_of_iterations = 50  # 기본값 50\n",
    "lda_model = gensim.models.ldamodel.LdaModel(corpus, num_topics=topic_number, id2word=dictionary,\n",
    "                                            passes=number_of_passes,  iterations=number_of_iterations)"
   ]
  },
  {
   "cell_type": "code",
   "execution_count": 10,
   "metadata": {},
   "outputs": [
    {
     "data": {
      "text/plain": [
       "[(0,\n",
       "  '0.016*\"매수\" + 0.013*\"대비\" + 0.010*\"주가\" + 0.009*\"외국인\" + 0.009*\"기관\" + 0.009*\"상승\" + 0.008*\"공개\" + 0.007*\"개인\" + 0.007*\"종목\" + 0.006*\"기록\"'),\n",
       " (1,\n",
       "  '0.014*\"부동산\" + 0.010*\"분양\" + 0.008*\"결정\" + 0.008*\"주택\" + 0.007*\"청약\" + 0.007*\"공시\" + 0.006*\"신청\" + 0.005*\"토지\" + 0.005*\"지역\" + 0.004*\"상가\"'),\n",
       " (2,\n",
       "  '0.008*\"사업\" + 0.006*\"예정\" + 0.006*\"입찰\" + 0.005*\"적용\" + 0.004*\"대림산업\" + 0.004*\"발행\" + 0.004*\"보험\" + 0.004*\"터키\" + 0.004*\"정부\" + 0.004*\"항공기\"'),\n",
       " (3,\n",
       "  '0.007*\"시장\" + 0.006*\"선정\" + 0.005*\"사업\" + 0.004*\"매출\" + 0.004*\"경매\" + 0.004*\"증가\" + 0.004*\"규모\" + 0.003*\"콘크리트\" + 0.003*\"예정\" + 0.003*\"연체\"'),\n",
       " (4,\n",
       "  '0.010*\"투자\" + 0.010*\"가구\" + 0.007*\"수익\" + 0.007*\"오피스텔\" + 0.006*\"주택\" + 0.006*\"건물\" + 0.006*\"금리\" + 0.005*\"신용\" + 0.005*\"가능\" + 0.005*\"최대\"'),\n",
       " (5,\n",
       "  '0.036*\"가격\" + 0.015*\"아파트\" + 0.011*\"평균\" + 0.010*\"상승\" + 0.009*\"서울\" + 0.008*\"인상\" + 0.007*\"강남\" + 0.006*\"계란\" + 0.006*\"2년\" + 0.005*\"상승세\"'),\n",
       " (6,\n",
       "  '0.013*\"대출\" + 0.010*\"가계\" + 0.008*\"가격\" + 0.007*\"은행\" + 0.006*\"인상\" + 0.005*\"증가\" + 0.004*\"금리\" + 0.004*\"정부\" + 0.004*\"소득\" + 0.003*\"자영업자\"'),\n",
       " (7,\n",
       "  '0.021*\"분양\" + 0.019*\"가구\" + 0.016*\"단지\" + 0.016*\"예정\" + 0.015*\"아파트\" + 0.012*\"전용\" + 0.011*\"도시\" + 0.010*\"지역\" + 0.009*\"공급\" + 0.009*\"인근\"'),\n",
       " (8,\n",
       "  '0.016*\"주택\" + 0.008*\"대출\" + 0.008*\"부동산\" + 0.007*\"금리\" + 0.005*\"월세\" + 0.005*\"서울\" + 0.005*\"부담\" + 0.005*\"시장\" + 0.005*\"신용\" + 0.004*\"아파트\"'),\n",
       " (9,\n",
       "  '0.024*\"아파트\" + 0.014*\"가구\" + 0.014*\"서울\" + 0.013*\"물량\" + 0.013*\"상승\" + 0.012*\"부동산\" + 0.011*\"입주\" + 0.011*\"분양\" + 0.010*\"전셋값\" + 0.010*\"시장\"')]"
      ]
     },
     "execution_count": 10,
     "metadata": {},
     "output_type": "execute_result"
    }
   ],
   "source": [
    "lda_model.print_topics()"
   ]
  },
  {
   "cell_type": "markdown",
   "metadata": {
    "heading_collapsed": true
   },
   "source": [
    "# 시각화"
   ]
  },
  {
   "cell_type": "code",
   "execution_count": null,
   "metadata": {
    "hidden": true
   },
   "outputs": [],
   "source": [
    "import pyLDAvis.gensim"
   ]
  },
  {
   "cell_type": "code",
   "execution_count": null,
   "metadata": {
    "hidden": true,
    "scrolled": true
   },
   "outputs": [],
   "source": [
    "pyLDAvis.enable_notebook()\n",
    "plot_lda_model = pyLDAvis.gensim.prepare(lda_model, corpus, dictionary)\n",
    "pyLDAvis.display(plot_lda_model)"
   ]
  },
  {
   "cell_type": "markdown",
   "metadata": {},
   "source": [
    "# Topics in Docs"
   ]
  },
  {
   "cell_type": "code",
   "execution_count": 11,
   "metadata": {},
   "outputs": [
    {
     "name": "stdout",
     "output_type": "stream",
     "text": [
      "  Topic Rates\n",
      "  0th article  :  [(1, 0.033009294), (5, 0.7638015), (7, 0.2000607)]\n",
      "  1th article  :  [(8, 0.37970498), (9, 0.6147366)]\n",
      "  2th article  :  [(2, 0.13502392), (6, 0.6511889), (7, 0.08689104), (9, 0.12244486)]\n",
      "  3th article  :  [(2, 0.88159716), (8, 0.11414347)]\n",
      "  4th article  :  [(9, 0.997404)]\n",
      "  5th article  :  [(5, 0.99399763)]\n",
      "  6th article  :  [(8, 0.9956446)]\n",
      "  7th article  :  [(2, 0.99603355)]\n",
      "  8th article  :  [(0, 0.26033932), (6, 0.7362523)]\n",
      "  9th article  :  [(9, 0.99513245)]\n"
     ]
    }
   ],
   "source": [
    "show_top_n = 10\n",
    "\n",
    "print('  Topic Rates')\n",
    "for cnt, topic_rate in enumerate(lda_model[corpus]):\n",
    "    if cnt == show_top_n:\n",
    "        break\n",
    "    print('{0:>3}th article  :  {1}'.format(cnt, topic_rate))"
   ]
  },
  {
   "cell_type": "code",
   "execution_count": 12,
   "metadata": {},
   "outputs": [],
   "source": [
    "def make_topic_data(model, corpus):\n",
    "    '''\n",
    "    문서별 최상의 topic을 칼럼으로 가지는 pandas.DataFrame 반환\n",
    "    model : gensim.models.ldamodel.LdaModel\n",
    "    corpus : corpus\n",
    "    '''\n",
    "    topic_data = pd.DataFrame()\n",
    "\n",
    "    for cnt, topic_rate_list in enumerate(model[corpus]):\n",
    "        sort_topic_rate_list = sorted(\n",
    "            topic_rate_list, key=lambda x: x[1], reverse=True)\n",
    "        (top_topic_numb, top_topic_rate) = sort_topic_rate_list[0]\n",
    "        \n",
    "        topic_data = topic_data.append(pd.Series(\n",
    "            [int(top_topic_numb), top_topic_rate, sort_topic_rate_list]), ignore_index=True)\n",
    "\n",
    "    topic_data.columns = ['name_top_topic', 'rate_top_topic', 'topic_detil']\n",
    "    return topic_data"
   ]
  },
  {
   "cell_type": "code",
   "execution_count": 13,
   "metadata": {},
   "outputs": [],
   "source": [
    "topic_data = make_topic_data(lda_model, corpus)"
   ]
  },
  {
   "cell_type": "code",
   "execution_count": 14,
   "metadata": {},
   "outputs": [
    {
     "data": {
      "text/html": [
       "<div>\n",
       "<style scoped>\n",
       "    .dataframe tbody tr th:only-of-type {\n",
       "        vertical-align: middle;\n",
       "    }\n",
       "\n",
       "    .dataframe tbody tr th {\n",
       "        vertical-align: top;\n",
       "    }\n",
       "\n",
       "    .dataframe thead th {\n",
       "        text-align: right;\n",
       "    }\n",
       "</style>\n",
       "<table border=\"1\" class=\"dataframe\">\n",
       "  <thead>\n",
       "    <tr style=\"text-align: right;\">\n",
       "      <th></th>\n",
       "      <th>name_top_topic</th>\n",
       "      <th>rate_top_topic</th>\n",
       "      <th>topic_detil</th>\n",
       "    </tr>\n",
       "  </thead>\n",
       "  <tbody>\n",
       "    <tr>\n",
       "      <th>0</th>\n",
       "      <td>5.0</td>\n",
       "      <td>0.763802</td>\n",
       "      <td>[(5, 0.7638015), (7, 0.20006076), (1, 0.033009...</td>\n",
       "    </tr>\n",
       "    <tr>\n",
       "      <th>1</th>\n",
       "      <td>9.0</td>\n",
       "      <td>0.614734</td>\n",
       "      <td>[(9, 0.6147343), (8, 0.37970737)]</td>\n",
       "    </tr>\n",
       "    <tr>\n",
       "      <th>2</th>\n",
       "      <td>6.0</td>\n",
       "      <td>0.651189</td>\n",
       "      <td>[(6, 0.65118915), (2, 0.13502301), (9, 0.12244...</td>\n",
       "    </tr>\n",
       "    <tr>\n",
       "      <th>3</th>\n",
       "      <td>2.0</td>\n",
       "      <td>0.881603</td>\n",
       "      <td>[(2, 0.8816033), (8, 0.11413733)]</td>\n",
       "    </tr>\n",
       "    <tr>\n",
       "      <th>4</th>\n",
       "      <td>9.0</td>\n",
       "      <td>0.997404</td>\n",
       "      <td>[(9, 0.997404)]</td>\n",
       "    </tr>\n",
       "    <tr>\n",
       "      <th>5</th>\n",
       "      <td>5.0</td>\n",
       "      <td>0.993998</td>\n",
       "      <td>[(5, 0.99399763)]</td>\n",
       "    </tr>\n",
       "    <tr>\n",
       "      <th>6</th>\n",
       "      <td>8.0</td>\n",
       "      <td>0.995645</td>\n",
       "      <td>[(8, 0.9956446)]</td>\n",
       "    </tr>\n",
       "    <tr>\n",
       "      <th>7</th>\n",
       "      <td>2.0</td>\n",
       "      <td>0.996034</td>\n",
       "      <td>[(2, 0.99603355)]</td>\n",
       "    </tr>\n",
       "    <tr>\n",
       "      <th>8</th>\n",
       "      <td>6.0</td>\n",
       "      <td>0.736253</td>\n",
       "      <td>[(6, 0.73625255), (0, 0.26033908)]</td>\n",
       "    </tr>\n",
       "    <tr>\n",
       "      <th>9</th>\n",
       "      <td>9.0</td>\n",
       "      <td>0.995132</td>\n",
       "      <td>[(9, 0.99513245)]</td>\n",
       "    </tr>\n",
       "  </tbody>\n",
       "</table>\n",
       "</div>"
      ],
      "text/plain": [
       "   name_top_topic  rate_top_topic  \\\n",
       "0             5.0        0.763802   \n",
       "1             9.0        0.614734   \n",
       "2             6.0        0.651189   \n",
       "3             2.0        0.881603   \n",
       "4             9.0        0.997404   \n",
       "5             5.0        0.993998   \n",
       "6             8.0        0.995645   \n",
       "7             2.0        0.996034   \n",
       "8             6.0        0.736253   \n",
       "9             9.0        0.995132   \n",
       "\n",
       "                                         topic_detil  \n",
       "0  [(5, 0.7638015), (7, 0.20006076), (1, 0.033009...  \n",
       "1                  [(9, 0.6147343), (8, 0.37970737)]  \n",
       "2  [(6, 0.65118915), (2, 0.13502301), (9, 0.12244...  \n",
       "3                  [(2, 0.8816033), (8, 0.11413733)]  \n",
       "4                                    [(9, 0.997404)]  \n",
       "5                                  [(5, 0.99399763)]  \n",
       "6                                   [(8, 0.9956446)]  \n",
       "7                                  [(2, 0.99603355)]  \n",
       "8                 [(6, 0.73625255), (0, 0.26033908)]  \n",
       "9                                  [(9, 0.99513245)]  "
      ]
     },
     "execution_count": 14,
     "metadata": {},
     "output_type": "execute_result"
    }
   ],
   "source": [
    "topic_data[:10]"
   ]
  },
  {
   "cell_type": "code",
   "execution_count": 24,
   "metadata": {},
   "outputs": [
    {
     "data": {
      "text/html": [
       "<div>\n",
       "<style scoped>\n",
       "    .dataframe tbody tr th:only-of-type {\n",
       "        vertical-align: middle;\n",
       "    }\n",
       "\n",
       "    .dataframe tbody tr th {\n",
       "        vertical-align: top;\n",
       "    }\n",
       "\n",
       "    .dataframe thead th {\n",
       "        text-align: right;\n",
       "    }\n",
       "</style>\n",
       "<table border=\"1\" class=\"dataframe\">\n",
       "  <thead>\n",
       "    <tr style=\"text-align: right;\">\n",
       "      <th></th>\n",
       "      <th>뉴스 식별자</th>\n",
       "      <th>일자</th>\n",
       "      <th>언론사</th>\n",
       "      <th>제목</th>\n",
       "      <th>통합 분류1</th>\n",
       "      <th>통합 분류2</th>\n",
       "      <th>위치</th>\n",
       "      <th>기관</th>\n",
       "      <th>키워드</th>\n",
       "      <th>특성추출(가중치순 상위 50개)</th>\n",
       "      <th>URL</th>\n",
       "    </tr>\n",
       "  </thead>\n",
       "  <tbody>\n",
       "    <tr>\n",
       "      <th>0</th>\n",
       "      <td>1.500301e+06</td>\n",
       "      <td>2017-01-31</td>\n",
       "      <td>경상일보</td>\n",
       "      <td>[현장&amp;이슈]천상 주택가 한가운데 주상복합,주민 반발</td>\n",
       "      <td>지역&gt;경남</td>\n",
       "      <td>경제&gt;부동산</td>\n",
       "      <td>[울산, 범서읍, 백문현, 천상, 울주군]</td>\n",
       "      <td>(주)평강</td>\n",
       "      <td>[천상, 주택가, 주상, 복합, 주민, 반발, 울산, 울주군, 범서읍, 천상, 주택...</td>\n",
       "      <td>[주민들, 주상복합, 시행사, 울주군, 탑마트, 주택가, 일조권, 신한다솜아파트, ...</td>\n",
       "      <td>www.ksilbo.co.kr/news/articleView.html?idxno=5...</td>\n",
       "    </tr>\n",
       "    <tr>\n",
       "      <th>1</th>\n",
       "      <td>1.500301e+06</td>\n",
       "      <td>2017-01-31</td>\n",
       "      <td>경상일보</td>\n",
       "      <td>울산 주택 매매 전세 월세 ‘트리플 약세’</td>\n",
       "      <td>경제&gt;부동산</td>\n",
       "      <td>경제&gt;유통</td>\n",
       "      <td>[울산, 충북, 대전, 전북, 경기, 부산, 제주, 대구, 광주, 경남]</td>\n",
       "      <td>울산,감정원,한국감정원</td>\n",
       "      <td>[매매, 울산, 주택, 전세, 월세, 트리플, 약세, 새해, 울산, 주택, 매매, ...</td>\n",
       "      <td>[울산, 월세가격, 전세가격, 3개월, 하락세, 대구, 경남, 충북, 7만, 내림세...</td>\n",
       "      <td>www.ksilbo.co.kr/news/articleView.html?idxno=5...</td>\n",
       "    </tr>\n",
       "    <tr>\n",
       "      <th>2</th>\n",
       "      <td>1.500301e+06</td>\n",
       "      <td>2017-01-31</td>\n",
       "      <td>경상일보</td>\n",
       "      <td>경남지역 아파트, 횡령 부당입찰 비리 여전</td>\n",
       "      <td>지역&gt;부산</td>\n",
       "      <td>경제&gt;부동산</td>\n",
       "      <td>[회계, 창원지역, 경남지역, 양산지역, 경남도]</td>\n",
       "      <td>2억여원,국민연,공정거래위원회,경남도</td>\n",
       "      <td>[경남, 지역, 아파트, 횡령, 부당입찰, 비리, 여전, 경남지역, 아파트, 단지,...</td>\n",
       "      <td>[가입자, 관리비, 경남도, 양산, 교체공사, 과태료, 사업자, 10건, 회계담당자...</td>\n",
       "      <td>www.ksilbo.co.kr/news/articleView.html?idxno=5...</td>\n",
       "    </tr>\n",
       "    <tr>\n",
       "      <th>3</th>\n",
       "      <td>1.500301e+06</td>\n",
       "      <td>2017-01-31</td>\n",
       "      <td>경상일보</td>\n",
       "      <td>울산 북구 효문공단 잔여지 40여년만에 개발 재개</td>\n",
       "      <td>경제&gt;부동산</td>\n",
       "      <td>지역&gt;충남</td>\n",
       "      <td>[울산, 울산미포국가산업단지, 북구, 울산시, 경기]</td>\n",
       "      <td>국토교통부,중앙토지수용위원회,효문공단,LH,울산시,수자원공사</td>\n",
       "      <td>[40여년, 울산, 북구, 효문, 공단, 잔여, 재개, 40년, 장기간, 방치, 울...</td>\n",
       "      <td>[효문공단, lh, 토지보상, 그동안, 울산시, 관계자, 장기간, 울산, 잔여지, ...</td>\n",
       "      <td>www.ksilbo.co.kr/news/articleView.html?idxno=5...</td>\n",
       "    </tr>\n",
       "    <tr>\n",
       "      <th>4</th>\n",
       "      <td>1.101101e+06</td>\n",
       "      <td>2017-01-31</td>\n",
       "      <td>한국일보</td>\n",
       "      <td>11ㆍ3대책에 얼었던 강남4구 아파트 다시 꿈틀</td>\n",
       "      <td>경제&gt;부동산</td>\n",
       "      <td>경제&gt;증권_증시</td>\n",
       "      <td>[서울, 강남권, 강남구, 구로, 강남, 강남 3구, 신반포, 개포동, 비강남권, ...</td>\n",
       "      <td>송파구,리서치센터장,아너힐즈,정부,강남권,강남,한국감정원,도시계획위원회,서초구,반포...</td>\n",
       "      <td>[11ㆍ3대책, 강남, 아파트, 강남, 대책, 하락, 12주, 반등, 강남권, 11...</td>\n",
       "      <td>[강남, 강남권, 서울, 분양가, 신반포, 강남구, 잠원동, 부동산, 하락세, 12...</td>\n",
       "      <td>http://hankookilbo.com/v/f8021f7019024e87b693d...</td>\n",
       "    </tr>\n",
       "    <tr>\n",
       "      <th>5</th>\n",
       "      <td>1.101101e+06</td>\n",
       "      <td>2017-01-31</td>\n",
       "      <td>한국일보</td>\n",
       "      <td>강남 3구 재건축 아파트 2년새 3억원 급등</td>\n",
       "      <td>경제&gt;부동산</td>\n",
       "      <td>경제&gt;유통</td>\n",
       "      <td>[미국, 동대문구, 서울, 용산구, 강남구, 중랑구, 강남, 노원구, 강남 3구, ...</td>\n",
       "      <td>강남구,부동산114리서치센터,부동산114</td>\n",
       "      <td>[2년, 강남, 아파트, 3억, 급등, 서울, 아파트, 가격, 상승세, 강남, 강남...</td>\n",
       "      <td>[3억, 강남, 서울, 부동산, 재건축, 송파구, 상승세, 10억, 1억, 858만...</td>\n",
       "      <td>http://hankookilbo.com/v/6a43ced7df33481cb8341...</td>\n",
       "    </tr>\n",
       "    <tr>\n",
       "      <th>6</th>\n",
       "      <td>1.101101e+06</td>\n",
       "      <td>2017-01-31</td>\n",
       "      <td>한국일보</td>\n",
       "      <td>기아차, ‘스토닉’ 가격 및 사양 ‘프라이드’로 보여</td>\n",
       "      <td>경제&gt;자동차</td>\n",
       "      <td>경제&gt;부동산</td>\n",
       "      <td>[개성, 미국, 하단, 영국, 유럽]</td>\n",
       "      <td>스포츠유틸리티차,자인,US PTO,유럽,스토닉,KED,카스쿠프스,특허청</td>\n",
       "      <td>[기아차, 스토닉, 가격, 사양, 프라이드, 기아자동차, 국내시장, 소형, 스포츠유...</td>\n",
       "      <td>[기아차, 리터, 스토닉, 영국, 가솔린, 특허청, 모터쇼, 축거, 하단부, 1만,...</td>\n",
       "      <td>http://hankookilbo.com/v/665c325912a74317956bc...</td>\n",
       "    </tr>\n",
       "    <tr>\n",
       "      <th>7</th>\n",
       "      <td>1.101101e+06</td>\n",
       "      <td>2017-01-31</td>\n",
       "      <td>한국일보</td>\n",
       "      <td>4월부터 장기 저축성보험 비과세 혜택 확 줄어든다</td>\n",
       "      <td>경제&gt;금융_재테크</td>\n",
       "      <td>경제&gt;부동산</td>\n",
       "      <td>[아시아, 신성, 경기]</td>\n",
       "      <td>정부,진흥지구,국무회의,정부서울청사</td>\n",
       "      <td>[4월, 장기, 저축, 보험, 혜택, 일시납, 1억, 축소, 적립식, 제한, 중고,...</td>\n",
       "      <td>[사업비, 적립식, 보험료, 일시납, 다이오드, 판매업, 그간, 개정안, 가입분, ...</td>\n",
       "      <td>http://hankookilbo.com/v/e7d6dda333604b1ea08dc...</td>\n",
       "    </tr>\n",
       "    <tr>\n",
       "      <th>8</th>\n",
       "      <td>1.101101e+06</td>\n",
       "      <td>2017-01-31</td>\n",
       "      <td>한국일보</td>\n",
       "      <td>‘200만원 터치’ 삼성전자 액면분할 재점화</td>\n",
       "      <td>경제&gt;부동산</td>\n",
       "      <td>경제&gt;무역</td>\n",
       "      <td>[None]</td>\n",
       "      <td>유가증권,리서치본부장,미래전략실</td>\n",
       "      <td>[200만, 터치, 재점화, 삼성전자, 액면, 분할, 개인, 1주, 가격, 솔솔, ...</td>\n",
       "      <td>[액면분할, 삼성전자, 황제주, 200만, 투자자, 가능성, 관계자, 원선, 이창목...</td>\n",
       "      <td>http://hankookilbo.com/v/83f9efbc8b044ec6b91f2...</td>\n",
       "    </tr>\n",
       "    <tr>\n",
       "      <th>9</th>\n",
       "      <td>1.101101e+06</td>\n",
       "      <td>2017-01-31</td>\n",
       "      <td>한국일보</td>\n",
       "      <td>서울 강남에 아파트 1만8천가구 쏟아진다 11년만에 최대</td>\n",
       "      <td>경제&gt;부동산</td>\n",
       "      <td>경제&gt;유통</td>\n",
       "      <td>[서초동, 서초우성1단지, 서울, 청담동, 강남구, 개포시영, 개포, 주공8단지, ...</td>\n",
       "      <td>주공7단지,주택도시보증공사,공무원연금관리공단</td>\n",
       "      <td>[서울, 강남, 아파트, 가구, 11년, 최대, 서울, 강남, 서초, 송파, 강동구...</td>\n",
       "      <td>[강남, 1만, 강남구, 서울, 부동산, 일반분양, 고덕, 강동구, 잠원동, 강남권...</td>\n",
       "      <td>http://hankookilbo.com/v/53e139a28e2340d58208f...</td>\n",
       "    </tr>\n",
       "  </tbody>\n",
       "</table>\n",
       "</div>"
      ],
      "text/plain": [
       "         뉴스 식별자         일자   언론사                               제목     통합 분류1  \\\n",
       "0  1.500301e+06 2017-01-31  경상일보    [현장&이슈]천상 주택가 한가운데 주상복합,주민 반발      지역>경남   \n",
       "1  1.500301e+06 2017-01-31  경상일보          울산 주택 매매 전세 월세 ‘트리플 약세’     경제>부동산   \n",
       "2  1.500301e+06 2017-01-31  경상일보          경남지역 아파트, 횡령 부당입찰 비리 여전      지역>부산   \n",
       "3  1.500301e+06 2017-01-31  경상일보      울산 북구 효문공단 잔여지 40여년만에 개발 재개     경제>부동산   \n",
       "4  1.101101e+06 2017-01-31  한국일보       11ㆍ3대책에 얼었던 강남4구 아파트 다시 꿈틀     경제>부동산   \n",
       "5  1.101101e+06 2017-01-31  한국일보         강남 3구 재건축 아파트 2년새 3억원 급등     경제>부동산   \n",
       "6  1.101101e+06 2017-01-31  한국일보    기아차, ‘스토닉’ 가격 및 사양 ‘프라이드’로 보여     경제>자동차   \n",
       "7  1.101101e+06 2017-01-31  한국일보      4월부터 장기 저축성보험 비과세 혜택 확 줄어든다  경제>금융_재테크   \n",
       "8  1.101101e+06 2017-01-31  한국일보         ‘200만원 터치’ 삼성전자 액면분할 재점화     경제>부동산   \n",
       "9  1.101101e+06 2017-01-31  한국일보  서울 강남에 아파트 1만8천가구 쏟아진다 11년만에 최대     경제>부동산   \n",
       "\n",
       "      통합 분류2                                                 위치  \\\n",
       "0     경제>부동산                            [울산, 범서읍, 백문현, 천상, 울주군]   \n",
       "1      경제>유통           [울산, 충북, 대전, 전북, 경기, 부산, 제주, 대구, 광주, 경남]   \n",
       "2     경제>부동산                        [회계, 창원지역, 경남지역, 양산지역, 경남도]   \n",
       "3      지역>충남                      [울산, 울산미포국가산업단지, 북구, 울산시, 경기]   \n",
       "4   경제>증권_증시  [서울, 강남권, 강남구, 구로, 강남, 강남 3구, 신반포, 개포동, 비강남권, ...   \n",
       "5      경제>유통  [미국, 동대문구, 서울, 용산구, 강남구, 중랑구, 강남, 노원구, 강남 3구, ...   \n",
       "6     경제>부동산                               [개성, 미국, 하단, 영국, 유럽]   \n",
       "7     경제>부동산                                      [아시아, 신성, 경기]   \n",
       "8      경제>무역                                             [None]   \n",
       "9      경제>유통  [서초동, 서초우성1단지, 서울, 청담동, 강남구, 개포시영, 개포, 주공8단지, ...   \n",
       "\n",
       "                                                  기관  \\\n",
       "0                                              (주)평강   \n",
       "1                                       울산,감정원,한국감정원   \n",
       "2                               2억여원,국민연,공정거래위원회,경남도   \n",
       "3                  국토교통부,중앙토지수용위원회,효문공단,LH,울산시,수자원공사   \n",
       "4  송파구,리서치센터장,아너힐즈,정부,강남권,강남,한국감정원,도시계획위원회,서초구,반포...   \n",
       "5                             강남구,부동산114리서치센터,부동산114   \n",
       "6            스포츠유틸리티차,자인,US PTO,유럽,스토닉,KED,카스쿠프스,특허청   \n",
       "7                                정부,진흥지구,국무회의,정부서울청사   \n",
       "8                                  유가증권,리서치본부장,미래전략실   \n",
       "9                           주공7단지,주택도시보증공사,공무원연금관리공단   \n",
       "\n",
       "                                                 키워드  \\\n",
       "0  [천상, 주택가, 주상, 복합, 주민, 반발, 울산, 울주군, 범서읍, 천상, 주택...   \n",
       "1  [매매, 울산, 주택, 전세, 월세, 트리플, 약세, 새해, 울산, 주택, 매매, ...   \n",
       "2  [경남, 지역, 아파트, 횡령, 부당입찰, 비리, 여전, 경남지역, 아파트, 단지,...   \n",
       "3  [40여년, 울산, 북구, 효문, 공단, 잔여, 재개, 40년, 장기간, 방치, 울...   \n",
       "4  [11ㆍ3대책, 강남, 아파트, 강남, 대책, 하락, 12주, 반등, 강남권, 11...   \n",
       "5  [2년, 강남, 아파트, 3억, 급등, 서울, 아파트, 가격, 상승세, 강남, 강남...   \n",
       "6  [기아차, 스토닉, 가격, 사양, 프라이드, 기아자동차, 국내시장, 소형, 스포츠유...   \n",
       "7  [4월, 장기, 저축, 보험, 혜택, 일시납, 1억, 축소, 적립식, 제한, 중고,...   \n",
       "8  [200만, 터치, 재점화, 삼성전자, 액면, 분할, 개인, 1주, 가격, 솔솔, ...   \n",
       "9  [서울, 강남, 아파트, 가구, 11년, 최대, 서울, 강남, 서초, 송파, 강동구...   \n",
       "\n",
       "                                   특성추출(가중치순 상위 50개)  \\\n",
       "0  [주민들, 주상복합, 시행사, 울주군, 탑마트, 주택가, 일조권, 신한다솜아파트, ...   \n",
       "1  [울산, 월세가격, 전세가격, 3개월, 하락세, 대구, 경남, 충북, 7만, 내림세...   \n",
       "2  [가입자, 관리비, 경남도, 양산, 교체공사, 과태료, 사업자, 10건, 회계담당자...   \n",
       "3  [효문공단, lh, 토지보상, 그동안, 울산시, 관계자, 장기간, 울산, 잔여지, ...   \n",
       "4  [강남, 강남권, 서울, 분양가, 신반포, 강남구, 잠원동, 부동산, 하락세, 12...   \n",
       "5  [3억, 강남, 서울, 부동산, 재건축, 송파구, 상승세, 10억, 1억, 858만...   \n",
       "6  [기아차, 리터, 스토닉, 영국, 가솔린, 특허청, 모터쇼, 축거, 하단부, 1만,...   \n",
       "7  [사업비, 적립식, 보험료, 일시납, 다이오드, 판매업, 그간, 개정안, 가입분, ...   \n",
       "8  [액면분할, 삼성전자, 황제주, 200만, 투자자, 가능성, 관계자, 원선, 이창목...   \n",
       "9  [강남, 1만, 강남구, 서울, 부동산, 일반분양, 고덕, 강동구, 잠원동, 강남권...   \n",
       "\n",
       "                                                 URL  \n",
       "0  www.ksilbo.co.kr/news/articleView.html?idxno=5...  \n",
       "1  www.ksilbo.co.kr/news/articleView.html?idxno=5...  \n",
       "2  www.ksilbo.co.kr/news/articleView.html?idxno=5...  \n",
       "3  www.ksilbo.co.kr/news/articleView.html?idxno=5...  \n",
       "4  http://hankookilbo.com/v/f8021f7019024e87b693d...  \n",
       "5  http://hankookilbo.com/v/6a43ced7df33481cb8341...  \n",
       "6  http://hankookilbo.com/v/665c325912a74317956bc...  \n",
       "7  http://hankookilbo.com/v/e7d6dda333604b1ea08dc...  \n",
       "8  http://hankookilbo.com/v/83f9efbc8b044ec6b91f2...  \n",
       "9  http://hankookilbo.com/v/53e139a28e2340d58208f...  "
      ]
     },
     "execution_count": 24,
     "metadata": {},
     "output_type": "execute_result"
    }
   ],
   "source": [
    "data.iloc[:10,].reset_index()"
   ]
  },
  {
   "cell_type": "markdown",
   "metadata": {},
   "source": [
    "# join with original data"
   ]
  },
  {
   "cell_type": "code",
   "execution_count": 35,
   "metadata": {},
   "outputs": [],
   "source": [
    "merge_data = pd.concat([data.iloc[:1000, ].reset_index(), topic_data], axis=1)[['뉴스 식별자', '일자', '언론사', '제목', '위치', 'URL',\n",
    "                                                                                'name_top_topic', 'rate_top_topic', 'topic_detil']]"
   ]
  },
  {
   "cell_type": "code",
   "execution_count": 39,
   "metadata": {},
   "outputs": [
    {
     "name": "stderr",
     "output_type": "stream",
     "text": [
      "C:\\Users\\User\\anaconda3\\lib\\site-packages\\ipykernel_launcher.py:5: FutureWarning: Series.dt.weekofyear and Series.dt.week have been deprecated.  Please use Series.dt.isocalendar().week instead.\n",
      "  \"\"\"\n"
     ]
    }
   ],
   "source": [
    "# key 추가\n",
    "merge_data['year'] = merge_data.일자.dt.year\n",
    "merge_data['month'] = merge_data.일자.dt.month\n",
    "merge_data['day'] = merge_data.일자.dt.day\n",
    "merge_data['week'] = merge_data.일자.dt.weekofyear"
   ]
  },
  {
   "cell_type": "code",
   "execution_count": 40,
   "metadata": {},
   "outputs": [
    {
     "data": {
      "text/html": [
       "<div>\n",
       "<style scoped>\n",
       "    .dataframe tbody tr th:only-of-type {\n",
       "        vertical-align: middle;\n",
       "    }\n",
       "\n",
       "    .dataframe tbody tr th {\n",
       "        vertical-align: top;\n",
       "    }\n",
       "\n",
       "    .dataframe thead th {\n",
       "        text-align: right;\n",
       "    }\n",
       "</style>\n",
       "<table border=\"1\" class=\"dataframe\">\n",
       "  <thead>\n",
       "    <tr style=\"text-align: right;\">\n",
       "      <th></th>\n",
       "      <th>뉴스 식별자</th>\n",
       "      <th>일자</th>\n",
       "      <th>언론사</th>\n",
       "      <th>제목</th>\n",
       "      <th>위치</th>\n",
       "      <th>URL</th>\n",
       "      <th>name_top_topic</th>\n",
       "      <th>rate_top_topic</th>\n",
       "      <th>topic_detil</th>\n",
       "      <th>year</th>\n",
       "      <th>month</th>\n",
       "      <th>day</th>\n",
       "      <th>week</th>\n",
       "    </tr>\n",
       "  </thead>\n",
       "  <tbody>\n",
       "    <tr>\n",
       "      <th>0</th>\n",
       "      <td>1.500301e+06</td>\n",
       "      <td>2017-01-31</td>\n",
       "      <td>경상일보</td>\n",
       "      <td>[현장&amp;이슈]천상 주택가 한가운데 주상복합,주민 반발</td>\n",
       "      <td>[울산, 범서읍, 백문현, 천상, 울주군]</td>\n",
       "      <td>www.ksilbo.co.kr/news/articleView.html?idxno=5...</td>\n",
       "      <td>5.0</td>\n",
       "      <td>0.763802</td>\n",
       "      <td>[(5, 0.7638015), (7, 0.20006076), (1, 0.033009...</td>\n",
       "      <td>2017</td>\n",
       "      <td>1</td>\n",
       "      <td>31</td>\n",
       "      <td>5</td>\n",
       "    </tr>\n",
       "    <tr>\n",
       "      <th>1</th>\n",
       "      <td>1.500301e+06</td>\n",
       "      <td>2017-01-31</td>\n",
       "      <td>경상일보</td>\n",
       "      <td>울산 주택 매매 전세 월세 ‘트리플 약세’</td>\n",
       "      <td>[울산, 충북, 대전, 전북, 경기, 부산, 제주, 대구, 광주, 경남]</td>\n",
       "      <td>www.ksilbo.co.kr/news/articleView.html?idxno=5...</td>\n",
       "      <td>9.0</td>\n",
       "      <td>0.614734</td>\n",
       "      <td>[(9, 0.6147343), (8, 0.37970737)]</td>\n",
       "      <td>2017</td>\n",
       "      <td>1</td>\n",
       "      <td>31</td>\n",
       "      <td>5</td>\n",
       "    </tr>\n",
       "    <tr>\n",
       "      <th>2</th>\n",
       "      <td>1.500301e+06</td>\n",
       "      <td>2017-01-31</td>\n",
       "      <td>경상일보</td>\n",
       "      <td>경남지역 아파트, 횡령 부당입찰 비리 여전</td>\n",
       "      <td>[회계, 창원지역, 경남지역, 양산지역, 경남도]</td>\n",
       "      <td>www.ksilbo.co.kr/news/articleView.html?idxno=5...</td>\n",
       "      <td>6.0</td>\n",
       "      <td>0.651189</td>\n",
       "      <td>[(6, 0.65118915), (2, 0.13502301), (9, 0.12244...</td>\n",
       "      <td>2017</td>\n",
       "      <td>1</td>\n",
       "      <td>31</td>\n",
       "      <td>5</td>\n",
       "    </tr>\n",
       "    <tr>\n",
       "      <th>3</th>\n",
       "      <td>1.500301e+06</td>\n",
       "      <td>2017-01-31</td>\n",
       "      <td>경상일보</td>\n",
       "      <td>울산 북구 효문공단 잔여지 40여년만에 개발 재개</td>\n",
       "      <td>[울산, 울산미포국가산업단지, 북구, 울산시, 경기]</td>\n",
       "      <td>www.ksilbo.co.kr/news/articleView.html?idxno=5...</td>\n",
       "      <td>2.0</td>\n",
       "      <td>0.881603</td>\n",
       "      <td>[(2, 0.8816033), (8, 0.11413733)]</td>\n",
       "      <td>2017</td>\n",
       "      <td>1</td>\n",
       "      <td>31</td>\n",
       "      <td>5</td>\n",
       "    </tr>\n",
       "    <tr>\n",
       "      <th>4</th>\n",
       "      <td>1.101101e+06</td>\n",
       "      <td>2017-01-31</td>\n",
       "      <td>한국일보</td>\n",
       "      <td>11ㆍ3대책에 얼었던 강남4구 아파트 다시 꿈틀</td>\n",
       "      <td>[서울, 강남권, 강남구, 구로, 강남, 강남 3구, 신반포, 개포동, 비강남권, ...</td>\n",
       "      <td>http://hankookilbo.com/v/f8021f7019024e87b693d...</td>\n",
       "      <td>9.0</td>\n",
       "      <td>0.997404</td>\n",
       "      <td>[(9, 0.997404)]</td>\n",
       "      <td>2017</td>\n",
       "      <td>1</td>\n",
       "      <td>31</td>\n",
       "      <td>5</td>\n",
       "    </tr>\n",
       "    <tr>\n",
       "      <th>5</th>\n",
       "      <td>1.101101e+06</td>\n",
       "      <td>2017-01-31</td>\n",
       "      <td>한국일보</td>\n",
       "      <td>강남 3구 재건축 아파트 2년새 3억원 급등</td>\n",
       "      <td>[미국, 동대문구, 서울, 용산구, 강남구, 중랑구, 강남, 노원구, 강남 3구, ...</td>\n",
       "      <td>http://hankookilbo.com/v/6a43ced7df33481cb8341...</td>\n",
       "      <td>5.0</td>\n",
       "      <td>0.993998</td>\n",
       "      <td>[(5, 0.99399763)]</td>\n",
       "      <td>2017</td>\n",
       "      <td>1</td>\n",
       "      <td>31</td>\n",
       "      <td>5</td>\n",
       "    </tr>\n",
       "  </tbody>\n",
       "</table>\n",
       "</div>"
      ],
      "text/plain": [
       "         뉴스 식별자         일자   언론사                             제목  \\\n",
       "0  1.500301e+06 2017-01-31  경상일보  [현장&이슈]천상 주택가 한가운데 주상복합,주민 반발   \n",
       "1  1.500301e+06 2017-01-31  경상일보        울산 주택 매매 전세 월세 ‘트리플 약세’   \n",
       "2  1.500301e+06 2017-01-31  경상일보        경남지역 아파트, 횡령 부당입찰 비리 여전   \n",
       "3  1.500301e+06 2017-01-31  경상일보    울산 북구 효문공단 잔여지 40여년만에 개발 재개   \n",
       "4  1.101101e+06 2017-01-31  한국일보     11ㆍ3대책에 얼었던 강남4구 아파트 다시 꿈틀   \n",
       "5  1.101101e+06 2017-01-31  한국일보       강남 3구 재건축 아파트 2년새 3억원 급등   \n",
       "\n",
       "                                                  위치  \\\n",
       "0                            [울산, 범서읍, 백문현, 천상, 울주군]   \n",
       "1           [울산, 충북, 대전, 전북, 경기, 부산, 제주, 대구, 광주, 경남]   \n",
       "2                        [회계, 창원지역, 경남지역, 양산지역, 경남도]   \n",
       "3                      [울산, 울산미포국가산업단지, 북구, 울산시, 경기]   \n",
       "4  [서울, 강남권, 강남구, 구로, 강남, 강남 3구, 신반포, 개포동, 비강남권, ...   \n",
       "5  [미국, 동대문구, 서울, 용산구, 강남구, 중랑구, 강남, 노원구, 강남 3구, ...   \n",
       "\n",
       "                                                 URL  name_top_topic  \\\n",
       "0  www.ksilbo.co.kr/news/articleView.html?idxno=5...             5.0   \n",
       "1  www.ksilbo.co.kr/news/articleView.html?idxno=5...             9.0   \n",
       "2  www.ksilbo.co.kr/news/articleView.html?idxno=5...             6.0   \n",
       "3  www.ksilbo.co.kr/news/articleView.html?idxno=5...             2.0   \n",
       "4  http://hankookilbo.com/v/f8021f7019024e87b693d...             9.0   \n",
       "5  http://hankookilbo.com/v/6a43ced7df33481cb8341...             5.0   \n",
       "\n",
       "   rate_top_topic                                        topic_detil  year  \\\n",
       "0        0.763802  [(5, 0.7638015), (7, 0.20006076), (1, 0.033009...  2017   \n",
       "1        0.614734                  [(9, 0.6147343), (8, 0.37970737)]  2017   \n",
       "2        0.651189  [(6, 0.65118915), (2, 0.13502301), (9, 0.12244...  2017   \n",
       "3        0.881603                  [(2, 0.8816033), (8, 0.11413733)]  2017   \n",
       "4        0.997404                                    [(9, 0.997404)]  2017   \n",
       "5        0.993998                                  [(5, 0.99399763)]  2017   \n",
       "\n",
       "   month  day  week  \n",
       "0      1   31     5  \n",
       "1      1   31     5  \n",
       "2      1   31     5  \n",
       "3      1   31     5  \n",
       "4      1   31     5  \n",
       "5      1   31     5  "
      ]
     },
     "execution_count": 40,
     "metadata": {},
     "output_type": "execute_result"
    }
   ],
   "source": [
    "merge_data.head(6)"
   ]
  },
  {
   "cell_type": "markdown",
   "metadata": {},
   "source": [
    "# 부동산 가격 데이터와 병합"
   ]
  },
  {
   "cell_type": "code",
   "execution_count": null,
   "metadata": {},
   "outputs": [],
   "source": []
  },
  {
   "cell_type": "code",
   "execution_count": null,
   "metadata": {},
   "outputs": [],
   "source": []
  }
 ],
 "metadata": {
  "kernelspec": {
   "display_name": "Python 3",
   "language": "python",
   "name": "python3"
  },
  "language_info": {
   "codemirror_mode": {
    "name": "ipython",
    "version": 3
   },
   "file_extension": ".py",
   "mimetype": "text/x-python",
   "name": "python",
   "nbconvert_exporter": "python",
   "pygments_lexer": "ipython3",
   "version": "3.7.7"
  },
  "toc": {
   "base_numbering": 1,
   "nav_menu": {},
   "number_sections": true,
   "sideBar": true,
   "skip_h1_title": false,
   "title_cell": "Table of Contents",
   "title_sidebar": "Contents",
   "toc_cell": false,
   "toc_position": {},
   "toc_section_display": true,
   "toc_window_display": false
  },
  "varInspector": {
   "cols": {
    "lenName": 16,
    "lenType": 16,
    "lenVar": 40
   },
   "kernels_config": {
    "python": {
     "delete_cmd_postfix": "",
     "delete_cmd_prefix": "del ",
     "library": "var_list.py",
     "varRefreshCmd": "print(var_dic_list())"
    },
    "r": {
     "delete_cmd_postfix": ") ",
     "delete_cmd_prefix": "rm(",
     "library": "var_list.r",
     "varRefreshCmd": "cat(var_dic_list()) "
    }
   },
   "types_to_exclude": [
    "module",
    "function",
    "builtin_function_or_method",
    "instance",
    "_Feature"
   ],
   "window_display": false
  }
 },
 "nbformat": 4,
 "nbformat_minor": 4
}
