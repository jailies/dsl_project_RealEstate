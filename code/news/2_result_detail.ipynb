{
 "cells": [
  {
   "cell_type": "code",
   "execution_count": 1,
   "metadata": {},
   "outputs": [],
   "source": [
    "import pandas as pd"
   ]
  },
  {
   "cell_type": "code",
   "execution_count": 2,
   "metadata": {},
   "outputs": [],
   "source": [
    "topic_data = pd.read_pickle('../../data/news/topic_data.pkl')"
   ]
  },
  {
   "cell_type": "code",
   "execution_count": 23,
   "metadata": {},
   "outputs": [
    {
     "data": {
      "text/plain": [
       "1.0    135195\n",
       "4.0    129168\n",
       "0.0    104402\n",
       "5.0     77106\n",
       "7.0     74691\n",
       "2.0     70547\n",
       "3.0     58249\n",
       "6.0     52646\n",
       "Name: name_top_topic, dtype: int64"
      ]
     },
     "execution_count": 23,
     "metadata": {},
     "output_type": "execute_result"
    }
   ],
   "source": [
    "topic_data.name_top_topic.value_counts()"
   ]
  },
  {
   "cell_type": "code",
   "execution_count": 5,
   "metadata": {},
   "outputs": [],
   "source": [
    "n = len(topic_data.name_top_topic.value_counts())"
   ]
  },
  {
   "cell_type": "code",
   "execution_count": 7,
   "metadata": {},
   "outputs": [
    {
     "data": {
      "text/html": [
       "<div>\n",
       "<style scoped>\n",
       "    .dataframe tbody tr th:only-of-type {\n",
       "        vertical-align: middle;\n",
       "    }\n",
       "\n",
       "    .dataframe tbody tr th {\n",
       "        vertical-align: top;\n",
       "    }\n",
       "\n",
       "    .dataframe thead th {\n",
       "        text-align: right;\n",
       "    }\n",
       "</style>\n",
       "<table border=\"1\" class=\"dataframe\">\n",
       "  <thead>\n",
       "    <tr style=\"text-align: right;\">\n",
       "      <th></th>\n",
       "      <th>제목</th>\n",
       "      <th>URL</th>\n",
       "    </tr>\n",
       "  </thead>\n",
       "  <tbody>\n",
       "    <tr>\n",
       "      <th>0</th>\n",
       "      <td>[현장&amp;이슈]천상 주택가 한가운데 주상복합,주민 반발</td>\n",
       "      <td>www.ksilbo.co.kr/news/articleView.html?idxno=5...</td>\n",
       "    </tr>\n",
       "    <tr>\n",
       "      <th>26</th>\n",
       "      <td>‘해남 코아루 더베스트’ 380세대 분양</td>\n",
       "      <td>http://www.kjdaily.com/read.php3?aid=148585878...</td>\n",
       "    </tr>\n",
       "    <tr>\n",
       "      <th>38</th>\n",
       "      <td>GS건설, 2월 4212가구 공급 설 연휴 뒤 분양 본격화</td>\n",
       "      <td>NaN</td>\n",
       "    </tr>\n",
       "    <tr>\n",
       "      <th>70</th>\n",
       "      <td>'교통 호평' 평내호평역 인근에 1만가구</td>\n",
       "      <td>NaN</td>\n",
       "    </tr>\n",
       "    <tr>\n",
       "      <th>75</th>\n",
       "      <td>[MK 추천매물] 동탄2신도시 KTX역 상가 28억8천만원</td>\n",
       "      <td>http://news.mk.co.kr/newsRead.php?no=71064&amp;yea...</td>\n",
       "    </tr>\n",
       "    <tr>\n",
       "      <th>...</th>\n",
       "      <td>...</td>\n",
       "      <td>...</td>\n",
       "    </tr>\n",
       "    <tr>\n",
       "      <th>701957</th>\n",
       "      <td>스타필드 안성 개점에 미래가치 기대되는 ‘e편한세상 비전 센터포레’ 주목</td>\n",
       "      <td>http://www.sedaily.com/NewsView/1Z6ESIAFWM</td>\n",
       "    </tr>\n",
       "    <tr>\n",
       "      <th>701981</th>\n",
       "      <td>[김진유의 도시읽기] \"거실 넓히세요\" 발코니 없애고 도시의 표정을 잃어버리다</td>\n",
       "      <td>https://www.hankookilbo.com/News/Read/A2020072...</td>\n",
       "    </tr>\n",
       "    <tr>\n",
       "      <th>701993</th>\n",
       "      <td>대우건설, 상업시설 브랜드 아클라우드 론칭</td>\n",
       "      <td>http://www.segye.com/content/html/2020/07/31/2...</td>\n",
       "    </tr>\n",
       "    <tr>\n",
       "      <th>701995</th>\n",
       "      <td>반도건설, 코로나19 위기 속 ‘공격적 사업 다각화’ 주목</td>\n",
       "      <td>http://www.segye.com/content/html/2020/07/31/2...</td>\n",
       "    </tr>\n",
       "    <tr>\n",
       "      <th>702002</th>\n",
       "      <td>부동산 시장도 '싱글슈머' 시대 1인 가구 잡는 오피스텔 인기</td>\n",
       "      <td>http://www.ajunews.com/view/20200731205629917</td>\n",
       "    </tr>\n",
       "  </tbody>\n",
       "</table>\n",
       "<p>135195 rows × 2 columns</p>\n",
       "</div>"
      ],
      "text/plain": [
       "                                                 제목  \\\n",
       "0                     [현장&이슈]천상 주택가 한가운데 주상복합,주민 반발   \n",
       "26                           ‘해남 코아루 더베스트’ 380세대 분양   \n",
       "38                 GS건설, 2월 4212가구 공급 설 연휴 뒤 분양 본격화   \n",
       "70                           '교통 호평' 평내호평역 인근에 1만가구   \n",
       "75                 [MK 추천매물] 동탄2신도시 KTX역 상가 28억8천만원   \n",
       "...                                             ...   \n",
       "701957     스타필드 안성 개점에 미래가치 기대되는 ‘e편한세상 비전 센터포레’ 주목   \n",
       "701981  [김진유의 도시읽기] \"거실 넓히세요\" 발코니 없애고 도시의 표정을 잃어버리다   \n",
       "701993                      대우건설, 상업시설 브랜드 아클라우드 론칭   \n",
       "701995             반도건설, 코로나19 위기 속 ‘공격적 사업 다각화’ 주목   \n",
       "702002           부동산 시장도 '싱글슈머' 시대 1인 가구 잡는 오피스텔 인기   \n",
       "\n",
       "                                                      URL  \n",
       "0       www.ksilbo.co.kr/news/articleView.html?idxno=5...  \n",
       "26      http://www.kjdaily.com/read.php3?aid=148585878...  \n",
       "38                                                    NaN  \n",
       "70                                                    NaN  \n",
       "75      http://news.mk.co.kr/newsRead.php?no=71064&yea...  \n",
       "...                                                   ...  \n",
       "701957         http://www.sedaily.com/NewsView/1Z6ESIAFWM  \n",
       "701981  https://www.hankookilbo.com/News/Read/A2020072...  \n",
       "701993  http://www.segye.com/content/html/2020/07/31/2...  \n",
       "701995  http://www.segye.com/content/html/2020/07/31/2...  \n",
       "702002      http://www.ajunews.com/view/20200731205629917  \n",
       "\n",
       "[135195 rows x 2 columns]"
      ]
     },
     "execution_count": 7,
     "metadata": {},
     "output_type": "execute_result"
    }
   ],
   "source": [
    "topic_data.loc[topic_data.name_top_topic == 1, ['제목', 'URL']]"
   ]
  },
  {
   "cell_type": "code",
   "execution_count": 9,
   "metadata": {},
   "outputs": [],
   "source": [
    "for cnt in range(0,n):\n",
    "    temp_data = topic_data.loc[topic_data.name_top_topic == cnt, ['제목', 'URL']]\n",
    "    temp_data.to_csv('../../data/news/topic/topic_data_{}.csv'.format(cnt))"
   ]
  }
 ],
 "metadata": {
  "kernelspec": {
   "display_name": "Python 3",
   "language": "python",
   "name": "python3"
  },
  "language_info": {
   "codemirror_mode": {
    "name": "ipython",
    "version": 3
   },
   "file_extension": ".py",
   "mimetype": "text/x-python",
   "name": "python",
   "nbconvert_exporter": "python",
   "pygments_lexer": "ipython3",
   "version": "3.7.7"
  },
  "toc": {
   "base_numbering": 1,
   "nav_menu": {},
   "number_sections": true,
   "sideBar": true,
   "skip_h1_title": false,
   "title_cell": "Table of Contents",
   "title_sidebar": "Contents",
   "toc_cell": false,
   "toc_position": {},
   "toc_section_display": true,
   "toc_window_display": false
  },
  "varInspector": {
   "cols": {
    "lenName": 16,
    "lenType": 16,
    "lenVar": 40
   },
   "kernels_config": {
    "python": {
     "delete_cmd_postfix": "",
     "delete_cmd_prefix": "del ",
     "library": "var_list.py",
     "varRefreshCmd": "print(var_dic_list())"
    },
    "r": {
     "delete_cmd_postfix": ") ",
     "delete_cmd_prefix": "rm(",
     "library": "var_list.r",
     "varRefreshCmd": "cat(var_dic_list()) "
    }
   },
   "types_to_exclude": [
    "module",
    "function",
    "builtin_function_or_method",
    "instance",
    "_Feature"
   ],
   "window_display": false
  }
 },
 "nbformat": 4,
 "nbformat_minor": 4
}
